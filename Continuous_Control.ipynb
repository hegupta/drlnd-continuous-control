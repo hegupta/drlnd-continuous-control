{
 "cells": [
  {
   "cell_type": "markdown",
   "metadata": {
    "colab_type": "text",
    "id": "aNOULXEIEvR9"
   },
   "source": [
    "# Continuous Control\n",
    "\n",
    "---\n",
    "\n",
    "In this notebook, you will learn how to use the Unity ML-Agents environment for the second project of the [Deep Reinforcement Learning Nanodegree](https://www.udacity.com/course/deep-reinforcement-learning-nanodegree--nd893) program.\n",
    "\n",
    "### 1. Start the Environment\n",
    "\n",
    "We begin by importing the necessary packages.  If the code cell below returns an error, please revisit the project instructions to double-check that you have installed [Unity ML-Agents](https://github.com/Unity-Technologies/ml-agents/blob/master/docs/Installation.md) and [NumPy](http://www.numpy.org/)."
   ]
  },
  {
   "cell_type": "code",
   "execution_count": 1,
   "metadata": {
    "colab": {},
    "colab_type": "code",
    "id": "p4CwaZRcEvR9"
   },
   "outputs": [],
   "source": [
    "from unityagents import UnityEnvironment\n",
    "import numpy as np\n",
    "\n",
    "import torch\n",
    "import torch.nn as nn\n",
    "import torch.nn.functional as F\n",
    "import torch.optim as optim\n",
    "from torch.autograd import Variable\n",
    "\n",
    "import random\n",
    "from collections import namedtuple, deque\n",
    "\n",
    "import matplotlib.pyplot as plt\n",
    "%matplotlib inline\n",
    "is_ipython = 'inline' in plt.get_backend()\n",
    "if is_ipython:\n",
    "    from IPython import display\n",
    "plt.ion()\n",
    "\n",
    "from deep_rl import *"
   ]
  },
  {
   "cell_type": "markdown",
   "metadata": {
    "colab_type": "text",
    "id": "miyvE9P_EvSM"
   },
   "source": [
    "Next, we will start the environment!  **_Before running the code cell below_**, change the `file_name` parameter to match the location of the Unity environment that you downloaded.\n",
    "\n",
    "- **Mac**: `\"path/to/Reacher.app\"`\n",
    "- **Windows** (x86): `\"path/to/Reacher_Windows_x86/Reacher.exe\"`\n",
    "- **Windows** (x86_64): `\"path/to/Reacher_Windows_x86_64/Reacher.exe\"`\n",
    "- **Linux** (x86): `\"path/to/Reacher_Linux/Reacher.x86\"`\n",
    "- **Linux** (x86_64): `\"path/to/Reacher_Linux/Reacher.x86_64\"`\n",
    "- **Linux** (x86, headless): `\"path/to/Reacher_Linux_NoVis/Reacher.x86\"`\n",
    "- **Linux** (x86_64, headless): `\"path/to/Reacher_Linux_NoVis/Reacher.x86_64\"`\n",
    "\n",
    "For instance, if you are using a Mac, then you downloaded `Reacher.app`.  If this file is in the same folder as the notebook, then the line below should appear as follows:\n",
    "```\n",
    "env = UnityEnvironment(file_name=\"Reacher.app\")\n",
    "```"
   ]
  },
  {
   "cell_type": "code",
   "execution_count": 2,
   "metadata": {
    "colab": {},
    "colab_type": "code",
    "id": "mmPf5QgREvSM",
    "outputId": "0d6bfe74-6208-4e3a-a0e8-06d7a6a208aa"
   },
   "outputs": [
    {
     "name": "stderr",
     "output_type": "stream",
     "text": [
      "INFO:unityagents:\n",
      "'Academy' started successfully!\n",
      "Unity Academy name: Academy\n",
      "        Number of Brains: 1\n",
      "        Number of External Brains : 1\n",
      "        Lesson number : 0\n",
      "        Reset Parameters :\n",
      "\t\tgoal_speed -> 1.0\n",
      "\t\tgoal_size -> 5.0\n",
      "Unity brain name: ReacherBrain\n",
      "        Number of Visual Observations (per agent): 0\n",
      "        Vector Observation space type: continuous\n",
      "        Vector Observation space size (per agent): 33\n",
      "        Number of stacked Vector Observation: 1\n",
      "        Vector Action space type: continuous\n",
      "        Vector Action space size (per agent): 4\n",
      "        Vector Action descriptions: , , , \n"
     ]
    }
   ],
   "source": [
    "env = UnityEnvironment(file_name='./Reacher_Linux/Reacher.x86_64')"
   ]
  },
  {
   "cell_type": "markdown",
   "metadata": {
    "colab_type": "text",
    "id": "UOt2peS3EvSc"
   },
   "source": [
    "Environments contain **_brains_** which are responsible for deciding the actions of their associated agents. Here we check for the first brain available, and set it as the default brain we will be controlling from Python."
   ]
  },
  {
   "cell_type": "code",
   "execution_count": 3,
   "metadata": {
    "colab": {},
    "colab_type": "code",
    "id": "uS4miRR3EvSc"
   },
   "outputs": [],
   "source": [
    "# get the default brain\n",
    "brain_name = env.brain_names[0]\n",
    "brain = env.brains[brain_name]"
   ]
  },
  {
   "cell_type": "markdown",
   "metadata": {
    "colab_type": "text",
    "id": "lfG1o3NgEvSc"
   },
   "source": [
    "### 2. Examine the State and Action Spaces\n",
    "\n",
    "In this environment, a double-jointed arm can move to target locations. A reward of `+0.1` is provided for each step that the agent's hand is in the goal location. Thus, the goal of your agent is to maintain its position at the target location for as many time steps as possible.\n",
    "\n",
    "The observation space consists of `33` variables corresponding to position, rotation, velocity, and angular velocities of the arm.  Each action is a vector with four numbers, corresponding to torque applicable to two joints.  Every entry in the action vector must be a number between `-1` and `1`.\n",
    "\n",
    "Run the code cell below to print some information about the environment."
   ]
  },
  {
   "cell_type": "code",
   "execution_count": 4,
   "metadata": {
    "colab": {},
    "colab_type": "code",
    "id": "7D9VsthjEvSc",
    "outputId": "e3130734-fab5-4fcc-d04a-ee48126cca87"
   },
   "outputs": [
    {
     "name": "stdout",
     "output_type": "stream",
     "text": [
      "Number of agents: 20\n",
      "Size of each action: 4\n",
      "There are 20 agents. Each observes a state with length: 33\n",
      "The state for the first agent looks like: [ 0.00000000e+00 -4.00000000e+00  0.00000000e+00  1.00000000e+00\n",
      " -0.00000000e+00 -0.00000000e+00 -4.37113883e-08  0.00000000e+00\n",
      "  0.00000000e+00  0.00000000e+00  0.00000000e+00  0.00000000e+00\n",
      "  0.00000000e+00  0.00000000e+00 -1.00000000e+01  0.00000000e+00\n",
      "  1.00000000e+00 -0.00000000e+00 -0.00000000e+00 -4.37113883e-08\n",
      "  0.00000000e+00  0.00000000e+00  0.00000000e+00  0.00000000e+00\n",
      "  0.00000000e+00  0.00000000e+00  5.75471878e+00 -1.00000000e+00\n",
      "  5.55726624e+00  0.00000000e+00  1.00000000e+00  0.00000000e+00\n",
      " -1.68164849e-01]\n"
     ]
    }
   ],
   "source": [
    "# reset the environment\n",
    "env_info = env.reset(train_mode=True)[brain_name]\n",
    "\n",
    "# number of agents\n",
    "num_agents = len(env_info.agents)\n",
    "print('Number of agents:', num_agents)\n",
    "\n",
    "# size of each action\n",
    "action_size = brain.vector_action_space_size\n",
    "print('Size of each action:', action_size)\n",
    "\n",
    "# examine the state space \n",
    "states = env_info.vector_observations\n",
    "state_size = states.shape[1]\n",
    "print('There are {} agents. Each observes a state with length: {}'.format(states.shape[0], state_size))\n",
    "print('The state for the first agent looks like:', states[0])"
   ]
  },
  {
   "cell_type": "markdown",
   "metadata": {
    "colab_type": "text",
    "id": "S3SkGjwmEvSq"
   },
   "source": [
    "### 3. Take Random Actions in the Environment\n",
    "\n",
    "In the next code cell, you will learn how to use the Python API to control the agent and receive feedback from the environment.\n",
    "\n",
    "Once this cell is executed, you will watch the agent's performance, if it selects an action at random with each time step.  A window should pop up that allows you to observe the agent, as it moves through the environment.  \n",
    "\n",
    "Of course, as part of the project, you'll have to change the code so that the agent is able to use its experience to gradually choose better actions when interacting with the environment!"
   ]
  },
  {
   "cell_type": "code",
   "execution_count": 5,
   "metadata": {
    "colab": {},
    "colab_type": "code",
    "id": "k1DiAA6SEvSq",
    "outputId": "16c5196e-db2a-481d-ea65-6cfe51e71eec"
   },
   "outputs": [
    {
     "name": "stdout",
     "output_type": "stream",
     "text": [
      "Total score (averaged over agents) this episode: 0.0\n"
     ]
    }
   ],
   "source": [
    "env_info = env.reset(train_mode=False)[brain_name]     # reset the environment    \n",
    "states = env_info.vector_observations                  # get the current state (for each agent)\n",
    "scores = np.zeros(num_agents)                          # initialize the score (for each agent)\n",
    "\n",
    "# STUDENT: Disabling random run!\n",
    "\n",
    "while False:\n",
    "    actions = np.random.randn(num_agents, action_size) # select an action (for each agent)\n",
    "    actions = np.clip(actions, -1, 1)                  # all actions between -1 and 1\n",
    "    env_info = env.step(actions)[brain_name]           # send all actions to tne environment\n",
    "    next_states = env_info.vector_observations         # get next state (for each agent)\n",
    "    rewards = env_info.rewards                         # get reward (for each agent)\n",
    "    dones = env_info.local_done                        # see if episode finished\n",
    "    scores += env_info.rewards                         # update the score (for each agent)\n",
    "    states = next_states                               # roll over states to next time step\n",
    "    if np.any(dones):                                  # exit loop if episode finished\n",
    "        break\n",
    "print('Total score (averaged over agents) this episode: {}'.format(np.mean(scores)))"
   ]
  },
  {
   "cell_type": "markdown",
   "metadata": {
    "colab_type": "text",
    "id": "_VbzuxECEvS7"
   },
   "source": [
    "When finished, you can close the environment."
   ]
  },
  {
   "cell_type": "code",
   "execution_count": 6,
   "metadata": {},
   "outputs": [],
   "source": [
    "def run_steps_2(agent):\n",
    "    random_seed()\n",
    "    config = agent.config\n",
    "    while True:\n",
    "        rewards = agent.rewards_deque\n",
    "        if config.log_interval and not agent.total_steps % config.log_interval and len(agent.episode_rewards):            \n",
    "            config.logger.info('Mean return of %.2f over a window of %d recent episodes. %d episodes played so far, most recent episodic return is %.2f' % (\n",
    "                np.mean(rewards), len(rewards), len(agent.rewards_all), agent.rewards_all[-1]))\n",
    "        if len(rewards) and (np.mean(rewards) >= 30.0):\n",
    "            save_path = 'winning_model.bin'\n",
    "            agent.save(save_path)\n",
    "            res = True, agent.rewards_deque, agent.rewards_all, save_path\n",
    "            agent.close()\n",
    "            return res\n",
    "        if config.max_steps and agent.total_steps >= config.max_steps:\n",
    "            agent.close()\n",
    "            return False, None, None, None\n",
    "        agent.step()\n"
   ]
  },
  {
   "cell_type": "code",
   "execution_count": 7,
   "metadata": {},
   "outputs": [
    {
     "name": "stderr",
     "output_type": "stream",
     "text": [
      "INFO:MAIN:Mean return of 0.17 over a window of 2 recent episodes. 2 episodes played so far, most recent episodic return is 0.17\n",
      "INFO:MAIN:Mean return of 0.19 over a window of 4 recent episodes. 4 episodes played so far, most recent episodic return is 0.21\n",
      "INFO:MAIN:Mean return of 0.18 over a window of 6 recent episodes. 6 episodes played so far, most recent episodic return is 0.16\n",
      "INFO:MAIN:Mean return of 0.23 over a window of 8 recent episodes. 8 episodes played so far, most recent episodic return is 0.37\n",
      "INFO:MAIN:Mean return of 0.33 over a window of 10 recent episodes. 10 episodes played so far, most recent episodic return is 0.67\n",
      "INFO:MAIN:Mean return of 0.40 over a window of 12 recent episodes. 12 episodes played so far, most recent episodic return is 0.84\n",
      "INFO:MAIN:Mean return of 0.48 over a window of 14 recent episodes. 14 episodes played so far, most recent episodic return is 0.88\n",
      "INFO:MAIN:Mean return of 0.57 over a window of 16 recent episodes. 16 episodes played so far, most recent episodic return is 1.26\n",
      "INFO:MAIN:Mean return of 0.65 over a window of 18 recent episodes. 18 episodes played so far, most recent episodic return is 1.35\n",
      "INFO:MAIN:Mean return of 0.75 over a window of 20 recent episodes. 20 episodes played so far, most recent episodic return is 1.48\n",
      "INFO:MAIN:Mean return of 0.83 over a window of 22 recent episodes. 22 episodes played so far, most recent episodic return is 1.83\n",
      "INFO:MAIN:Mean return of 0.91 over a window of 24 recent episodes. 24 episodes played so far, most recent episodic return is 1.81\n",
      "INFO:MAIN:Mean return of 0.99 over a window of 26 recent episodes. 26 episodes played so far, most recent episodic return is 2.01\n",
      "INFO:MAIN:Mean return of 1.08 over a window of 28 recent episodes. 28 episodes played so far, most recent episodic return is 2.38\n",
      "INFO:MAIN:Mean return of 1.14 over a window of 30 recent episodes. 30 episodes played so far, most recent episodic return is 2.07\n",
      "INFO:MAIN:Mean return of 1.21 over a window of 32 recent episodes. 32 episodes played so far, most recent episodic return is 2.32\n",
      "INFO:MAIN:Mean return of 1.29 over a window of 34 recent episodes. 34 episodes played so far, most recent episodic return is 2.40\n",
      "INFO:MAIN:Mean return of 1.35 over a window of 36 recent episodes. 36 episodes played so far, most recent episodic return is 2.48\n",
      "INFO:MAIN:Mean return of 1.43 over a window of 38 recent episodes. 38 episodes played so far, most recent episodic return is 2.43\n",
      "INFO:MAIN:Mean return of 1.52 over a window of 40 recent episodes. 40 episodes played so far, most recent episodic return is 3.13\n",
      "INFO:MAIN:Mean return of 1.60 over a window of 42 recent episodes. 42 episodes played so far, most recent episodic return is 3.27\n",
      "INFO:MAIN:Mean return of 1.70 over a window of 45 recent episodes. 45 episodes played so far, most recent episodic return is 3.10\n",
      "INFO:MAIN:Mean return of 1.78 over a window of 47 recent episodes. 47 episodes played so far, most recent episodic return is 3.52\n",
      "INFO:MAIN:Mean return of 1.86 over a window of 49 recent episodes. 49 episodes played so far, most recent episodic return is 3.93\n",
      "INFO:MAIN:Mean return of 1.95 over a window of 51 recent episodes. 51 episodes played so far, most recent episodic return is 4.02\n",
      "INFO:MAIN:Mean return of 2.02 over a window of 53 recent episodes. 53 episodes played so far, most recent episodic return is 3.81\n",
      "INFO:MAIN:Mean return of 2.10 over a window of 55 recent episodes. 55 episodes played so far, most recent episodic return is 4.22\n",
      "INFO:MAIN:Mean return of 2.18 over a window of 57 recent episodes. 57 episodes played so far, most recent episodic return is 4.44\n",
      "INFO:MAIN:Mean return of 2.25 over a window of 59 recent episodes. 59 episodes played so far, most recent episodic return is 4.38\n",
      "INFO:MAIN:Mean return of 2.31 over a window of 61 recent episodes. 61 episodes played so far, most recent episodic return is 4.17\n",
      "INFO:MAIN:Mean return of 2.40 over a window of 63 recent episodes. 63 episodes played so far, most recent episodic return is 4.95\n",
      "INFO:MAIN:Mean return of 2.49 over a window of 65 recent episodes. 65 episodes played so far, most recent episodic return is 5.81\n",
      "INFO:MAIN:Mean return of 2.57 over a window of 67 recent episodes. 67 episodes played so far, most recent episodic return is 5.62\n",
      "INFO:MAIN:Mean return of 2.65 over a window of 69 recent episodes. 69 episodes played so far, most recent episodic return is 5.63\n",
      "INFO:MAIN:Mean return of 2.75 over a window of 71 recent episodes. 71 episodes played so far, most recent episodic return is 6.37\n",
      "INFO:MAIN:Mean return of 2.83 over a window of 73 recent episodes. 73 episodes played so far, most recent episodic return is 5.75\n",
      "INFO:MAIN:Mean return of 2.92 over a window of 75 recent episodes. 75 episodes played so far, most recent episodic return is 5.86\n",
      "INFO:MAIN:Mean return of 2.98 over a window of 77 recent episodes. 77 episodes played so far, most recent episodic return is 5.64\n",
      "INFO:MAIN:Mean return of 3.07 over a window of 79 recent episodes. 79 episodes played so far, most recent episodic return is 6.36\n",
      "INFO:MAIN:Mean return of 3.16 over a window of 81 recent episodes. 81 episodes played so far, most recent episodic return is 6.88\n",
      "INFO:MAIN:Mean return of 3.24 over a window of 83 recent episodes. 83 episodes played so far, most recent episodic return is 6.38\n",
      "INFO:MAIN:Mean return of 3.31 over a window of 85 recent episodes. 85 episodes played so far, most recent episodic return is 5.64\n",
      "INFO:MAIN:Mean return of 3.39 over a window of 87 recent episodes. 87 episodes played so far, most recent episodic return is 6.63\n",
      "INFO:MAIN:Mean return of 3.51 over a window of 90 recent episodes. 90 episodes played so far, most recent episodic return is 6.86\n",
      "INFO:MAIN:Mean return of 3.59 over a window of 92 recent episodes. 92 episodes played so far, most recent episodic return is 7.74\n",
      "INFO:MAIN:Mean return of 3.68 over a window of 94 recent episodes. 94 episodes played so far, most recent episodic return is 7.09\n",
      "INFO:MAIN:Mean return of 3.74 over a window of 96 recent episodes. 96 episodes played so far, most recent episodic return is 7.19\n",
      "INFO:MAIN:Mean return of 3.83 over a window of 98 recent episodes. 98 episodes played so far, most recent episodic return is 7.80\n",
      "INFO:MAIN:Mean return of 3.91 over a window of 100 recent episodes. 100 episodes played so far, most recent episodic return is 7.90\n",
      "INFO:MAIN:Mean return of 4.06 over a window of 100 recent episodes. 102 episodes played so far, most recent episodic return is 8.28\n",
      "INFO:MAIN:Mean return of 4.23 over a window of 100 recent episodes. 104 episodes played so far, most recent episodic return is 8.02\n",
      "INFO:MAIN:Mean return of 4.39 over a window of 100 recent episodes. 106 episodes played so far, most recent episodic return is 7.94\n",
      "INFO:MAIN:Mean return of 4.55 over a window of 100 recent episodes. 108 episodes played so far, most recent episodic return is 8.32\n",
      "INFO:MAIN:Mean return of 4.70 over a window of 100 recent episodes. 110 episodes played so far, most recent episodic return is 8.73\n",
      "INFO:MAIN:Mean return of 4.85 over a window of 100 recent episodes. 112 episodes played so far, most recent episodic return is 7.89\n",
      "INFO:MAIN:Mean return of 5.00 over a window of 100 recent episodes. 114 episodes played so far, most recent episodic return is 8.69\n",
      "INFO:MAIN:Mean return of 5.15 over a window of 100 recent episodes. 116 episodes played so far, most recent episodic return is 8.65\n",
      "INFO:MAIN:Mean return of 5.30 over a window of 100 recent episodes. 118 episodes played so far, most recent episodic return is 9.39\n",
      "INFO:MAIN:Mean return of 5.45 over a window of 100 recent episodes. 120 episodes played so far, most recent episodic return is 9.33\n",
      "INFO:MAIN:Mean return of 5.59 over a window of 100 recent episodes. 122 episodes played so far, most recent episodic return is 9.14\n",
      "INFO:MAIN:Mean return of 5.74 over a window of 100 recent episodes. 124 episodes played so far, most recent episodic return is 9.39\n",
      "INFO:MAIN:Mean return of 5.89 over a window of 100 recent episodes. 126 episodes played so far, most recent episodic return is 9.29\n",
      "INFO:MAIN:Mean return of 6.03 over a window of 100 recent episodes. 128 episodes played so far, most recent episodic return is 9.26\n"
     ]
    },
    {
     "name": "stderr",
     "output_type": "stream",
     "text": [
      "INFO:MAIN:Mean return of 6.19 over a window of 100 recent episodes. 130 episodes played so far, most recent episodic return is 9.65\n",
      "INFO:MAIN:Mean return of 6.33 over a window of 100 recent episodes. 132 episodes played so far, most recent episodic return is 9.07\n",
      "INFO:MAIN:Mean return of 6.55 over a window of 100 recent episodes. 135 episodes played so far, most recent episodic return is 9.43\n",
      "INFO:MAIN:Mean return of 6.69 over a window of 100 recent episodes. 137 episodes played so far, most recent episodic return is 10.14\n",
      "INFO:MAIN:Mean return of 6.83 over a window of 100 recent episodes. 139 episodes played so far, most recent episodic return is 9.70\n",
      "INFO:MAIN:Mean return of 6.98 over a window of 100 recent episodes. 141 episodes played so far, most recent episodic return is 11.49\n",
      "INFO:MAIN:Mean return of 7.13 over a window of 100 recent episodes. 143 episodes played so far, most recent episodic return is 10.19\n",
      "INFO:MAIN:Mean return of 7.27 over a window of 100 recent episodes. 145 episodes played so far, most recent episodic return is 10.83\n",
      "INFO:MAIN:Mean return of 7.40 over a window of 100 recent episodes. 147 episodes played so far, most recent episodic return is 10.35\n",
      "INFO:MAIN:Mean return of 7.53 over a window of 100 recent episodes. 149 episodes played so far, most recent episodic return is 9.35\n",
      "INFO:MAIN:Mean return of 7.66 over a window of 100 recent episodes. 151 episodes played so far, most recent episodic return is 10.75\n",
      "INFO:MAIN:Mean return of 7.80 over a window of 100 recent episodes. 153 episodes played so far, most recent episodic return is 10.64\n",
      "INFO:MAIN:Mean return of 7.93 over a window of 100 recent episodes. 155 episodes played so far, most recent episodic return is 9.85\n",
      "INFO:MAIN:Mean return of 8.07 over a window of 100 recent episodes. 157 episodes played so far, most recent episodic return is 11.21\n",
      "INFO:MAIN:Mean return of 8.21 over a window of 100 recent episodes. 159 episodes played so far, most recent episodic return is 10.96\n",
      "INFO:MAIN:Mean return of 8.35 over a window of 100 recent episodes. 161 episodes played so far, most recent episodic return is 11.46\n",
      "INFO:MAIN:Mean return of 8.47 over a window of 100 recent episodes. 163 episodes played so far, most recent episodic return is 11.67\n",
      "INFO:MAIN:Mean return of 8.59 over a window of 100 recent episodes. 165 episodes played so far, most recent episodic return is 11.46\n",
      "INFO:MAIN:Mean return of 8.72 over a window of 100 recent episodes. 167 episodes played so far, most recent episodic return is 11.44\n",
      "INFO:MAIN:Mean return of 8.86 over a window of 100 recent episodes. 169 episodes played so far, most recent episodic return is 12.22\n",
      "INFO:MAIN:Mean return of 8.98 over a window of 100 recent episodes. 171 episodes played so far, most recent episodic return is 11.44\n",
      "INFO:MAIN:Mean return of 9.10 over a window of 100 recent episodes. 173 episodes played so far, most recent episodic return is 11.76\n",
      "INFO:MAIN:Mean return of 9.21 over a window of 100 recent episodes. 175 episodes played so far, most recent episodic return is 12.06\n",
      "INFO:MAIN:Mean return of 9.34 over a window of 100 recent episodes. 177 episodes played so far, most recent episodic return is 11.88\n",
      "INFO:MAIN:Mean return of 9.49 over a window of 100 recent episodes. 180 episodes played so far, most recent episodic return is 11.28\n",
      "INFO:MAIN:Mean return of 9.59 over a window of 100 recent episodes. 182 episodes played so far, most recent episodic return is 11.63\n",
      "INFO:MAIN:Mean return of 9.71 over a window of 100 recent episodes. 184 episodes played so far, most recent episodic return is 12.58\n",
      "INFO:MAIN:Mean return of 9.82 over a window of 100 recent episodes. 186 episodes played so far, most recent episodic return is 11.88\n",
      "INFO:MAIN:Mean return of 9.93 over a window of 100 recent episodes. 188 episodes played so far, most recent episodic return is 11.69\n",
      "INFO:MAIN:Mean return of 10.03 over a window of 100 recent episodes. 190 episodes played so far, most recent episodic return is 11.87\n",
      "INFO:MAIN:Mean return of 10.13 over a window of 100 recent episodes. 192 episodes played so far, most recent episodic return is 12.96\n",
      "INFO:MAIN:Mean return of 10.24 over a window of 100 recent episodes. 194 episodes played so far, most recent episodic return is 13.01\n",
      "INFO:MAIN:Mean return of 10.37 over a window of 100 recent episodes. 196 episodes played so far, most recent episodic return is 12.50\n",
      "INFO:MAIN:Mean return of 10.47 over a window of 100 recent episodes. 198 episodes played so far, most recent episodic return is 13.35\n",
      "INFO:MAIN:Mean return of 10.58 over a window of 100 recent episodes. 200 episodes played so far, most recent episodic return is 13.64\n",
      "INFO:MAIN:Mean return of 10.69 over a window of 100 recent episodes. 202 episodes played so far, most recent episodic return is 13.17\n",
      "INFO:MAIN:Mean return of 10.79 over a window of 100 recent episodes. 204 episodes played so far, most recent episodic return is 14.06\n",
      "INFO:MAIN:Mean return of 10.89 over a window of 100 recent episodes. 206 episodes played so far, most recent episodic return is 13.24\n",
      "INFO:MAIN:Mean return of 10.98 over a window of 100 recent episodes. 208 episodes played so far, most recent episodic return is 12.33\n",
      "INFO:MAIN:Mean return of 11.07 over a window of 100 recent episodes. 210 episodes played so far, most recent episodic return is 12.54\n",
      "INFO:MAIN:Mean return of 11.18 over a window of 100 recent episodes. 212 episodes played so far, most recent episodic return is 14.12\n",
      "INFO:MAIN:Mean return of 11.29 over a window of 100 recent episodes. 214 episodes played so far, most recent episodic return is 13.72\n",
      "INFO:MAIN:Mean return of 11.38 over a window of 100 recent episodes. 216 episodes played so far, most recent episodic return is 13.72\n",
      "INFO:MAIN:Mean return of 11.48 over a window of 100 recent episodes. 218 episodes played so far, most recent episodic return is 15.45\n",
      "INFO:MAIN:Mean return of 11.58 over a window of 100 recent episodes. 220 episodes played so far, most recent episodic return is 13.85\n",
      "INFO:MAIN:Mean return of 11.74 over a window of 100 recent episodes. 223 episodes played so far, most recent episodic return is 14.24\n",
      "INFO:MAIN:Mean return of 11.84 over a window of 100 recent episodes. 225 episodes played so far, most recent episodic return is 14.03\n",
      "INFO:MAIN:Mean return of 11.95 over a window of 100 recent episodes. 227 episodes played so far, most recent episodic return is 15.07\n",
      "INFO:MAIN:Mean return of 12.03 over a window of 100 recent episodes. 229 episodes played so far, most recent episodic return is 13.66\n",
      "INFO:MAIN:Mean return of 12.12 over a window of 100 recent episodes. 231 episodes played so far, most recent episodic return is 14.63\n",
      "INFO:MAIN:Mean return of 12.23 over a window of 100 recent episodes. 233 episodes played so far, most recent episodic return is 14.64\n",
      "INFO:MAIN:Mean return of 12.32 over a window of 100 recent episodes. 235 episodes played so far, most recent episodic return is 14.20\n",
      "INFO:MAIN:Mean return of 12.43 over a window of 100 recent episodes. 237 episodes played so far, most recent episodic return is 15.63\n",
      "INFO:MAIN:Mean return of 12.54 over a window of 100 recent episodes. 239 episodes played so far, most recent episodic return is 15.46\n",
      "INFO:MAIN:Mean return of 12.63 over a window of 100 recent episodes. 241 episodes played so far, most recent episodic return is 15.07\n",
      "INFO:MAIN:Mean return of 12.74 over a window of 100 recent episodes. 243 episodes played so far, most recent episodic return is 15.82\n",
      "INFO:MAIN:Mean return of 12.84 over a window of 100 recent episodes. 245 episodes played so far, most recent episodic return is 15.11\n",
      "INFO:MAIN:Mean return of 12.94 over a window of 100 recent episodes. 247 episodes played so far, most recent episodic return is 15.87\n",
      "INFO:MAIN:Mean return of 13.05 over a window of 100 recent episodes. 249 episodes played so far, most recent episodic return is 16.03\n",
      "INFO:MAIN:Mean return of 13.16 over a window of 100 recent episodes. 251 episodes played so far, most recent episodic return is 16.67\n",
      "INFO:MAIN:Mean return of 13.27 over a window of 100 recent episodes. 253 episodes played so far, most recent episodic return is 16.03\n",
      "INFO:MAIN:Mean return of 13.39 over a window of 100 recent episodes. 255 episodes played so far, most recent episodic return is 16.81\n"
     ]
    },
    {
     "name": "stderr",
     "output_type": "stream",
     "text": [
      "INFO:MAIN:Mean return of 13.48 over a window of 100 recent episodes. 257 episodes played so far, most recent episodic return is 15.17\n",
      "INFO:MAIN:Mean return of 13.57 over a window of 100 recent episodes. 259 episodes played so far, most recent episodic return is 15.97\n",
      "INFO:MAIN:Mean return of 13.67 over a window of 100 recent episodes. 261 episodes played so far, most recent episodic return is 15.54\n",
      "INFO:MAIN:Mean return of 13.77 over a window of 100 recent episodes. 263 episodes played so far, most recent episodic return is 16.58\n",
      "INFO:MAIN:Mean return of 13.88 over a window of 100 recent episodes. 265 episodes played so far, most recent episodic return is 16.87\n",
      "INFO:MAIN:Mean return of 14.01 over a window of 100 recent episodes. 268 episodes played so far, most recent episodic return is 16.60\n",
      "INFO:MAIN:Mean return of 14.10 over a window of 100 recent episodes. 270 episodes played so far, most recent episodic return is 17.03\n",
      "INFO:MAIN:Mean return of 14.20 over a window of 100 recent episodes. 272 episodes played so far, most recent episodic return is 16.04\n",
      "INFO:MAIN:Mean return of 14.31 over a window of 100 recent episodes. 274 episodes played so far, most recent episodic return is 16.45\n",
      "INFO:MAIN:Mean return of 14.41 over a window of 100 recent episodes. 276 episodes played so far, most recent episodic return is 16.61\n",
      "INFO:MAIN:Mean return of 14.51 over a window of 100 recent episodes. 278 episodes played so far, most recent episodic return is 17.05\n",
      "INFO:MAIN:Mean return of 14.62 over a window of 100 recent episodes. 280 episodes played so far, most recent episodic return is 16.23\n",
      "INFO:MAIN:Mean return of 14.74 over a window of 100 recent episodes. 282 episodes played so far, most recent episodic return is 17.31\n",
      "INFO:MAIN:Mean return of 14.82 over a window of 100 recent episodes. 284 episodes played so far, most recent episodic return is 16.53\n",
      "INFO:MAIN:Mean return of 14.93 over a window of 100 recent episodes. 286 episodes played so far, most recent episodic return is 16.80\n",
      "INFO:MAIN:Mean return of 15.04 over a window of 100 recent episodes. 288 episodes played so far, most recent episodic return is 19.20\n",
      "INFO:MAIN:Mean return of 15.16 over a window of 100 recent episodes. 290 episodes played so far, most recent episodic return is 16.77\n",
      "INFO:MAIN:Mean return of 15.26 over a window of 100 recent episodes. 292 episodes played so far, most recent episodic return is 17.84\n",
      "INFO:MAIN:Mean return of 15.36 over a window of 100 recent episodes. 294 episodes played so far, most recent episodic return is 17.86\n",
      "INFO:MAIN:Mean return of 15.45 over a window of 100 recent episodes. 296 episodes played so far, most recent episodic return is 18.25\n",
      "INFO:MAIN:Mean return of 15.56 over a window of 100 recent episodes. 298 episodes played so far, most recent episodic return is 18.27\n",
      "INFO:MAIN:Mean return of 15.66 over a window of 100 recent episodes. 300 episodes played so far, most recent episodic return is 17.99\n",
      "INFO:MAIN:Mean return of 15.78 over a window of 100 recent episodes. 302 episodes played so far, most recent episodic return is 19.14\n",
      "INFO:MAIN:Mean return of 15.90 over a window of 100 recent episodes. 304 episodes played so far, most recent episodic return is 18.96\n",
      "INFO:MAIN:Mean return of 16.00 over a window of 100 recent episodes. 306 episodes played so far, most recent episodic return is 18.73\n",
      "INFO:MAIN:Mean return of 16.13 over a window of 100 recent episodes. 308 episodes played so far, most recent episodic return is 18.78\n",
      "INFO:MAIN:Mean return of 16.25 over a window of 100 recent episodes. 310 episodes played so far, most recent episodic return is 18.66\n",
      "INFO:MAIN:Mean return of 16.40 over a window of 100 recent episodes. 313 episodes played so far, most recent episodic return is 19.07\n",
      "INFO:MAIN:Mean return of 16.51 over a window of 100 recent episodes. 315 episodes played so far, most recent episodic return is 19.60\n",
      "INFO:MAIN:Mean return of 16.62 over a window of 100 recent episodes. 317 episodes played so far, most recent episodic return is 18.57\n",
      "INFO:MAIN:Mean return of 16.70 over a window of 100 recent episodes. 319 episodes played so far, most recent episodic return is 19.02\n",
      "INFO:MAIN:Mean return of 16.83 over a window of 100 recent episodes. 321 episodes played so far, most recent episodic return is 19.97\n",
      "INFO:MAIN:Mean return of 16.92 over a window of 100 recent episodes. 323 episodes played so far, most recent episodic return is 18.74\n",
      "INFO:MAIN:Mean return of 17.03 over a window of 100 recent episodes. 325 episodes played so far, most recent episodic return is 19.21\n",
      "INFO:MAIN:Mean return of 17.13 over a window of 100 recent episodes. 327 episodes played so far, most recent episodic return is 19.12\n",
      "INFO:MAIN:Mean return of 17.22 over a window of 100 recent episodes. 329 episodes played so far, most recent episodic return is 17.91\n",
      "INFO:MAIN:Mean return of 17.30 over a window of 100 recent episodes. 331 episodes played so far, most recent episodic return is 18.53\n",
      "INFO:MAIN:Mean return of 17.41 over a window of 100 recent episodes. 333 episodes played so far, most recent episodic return is 19.43\n",
      "INFO:MAIN:Mean return of 17.53 over a window of 100 recent episodes. 335 episodes played so far, most recent episodic return is 20.03\n",
      "INFO:MAIN:Mean return of 17.62 over a window of 100 recent episodes. 337 episodes played so far, most recent episodic return is 19.90\n",
      "INFO:MAIN:Mean return of 17.72 over a window of 100 recent episodes. 339 episodes played so far, most recent episodic return is 20.65\n",
      "INFO:MAIN:Mean return of 17.83 over a window of 100 recent episodes. 341 episodes played so far, most recent episodic return is 20.28\n",
      "INFO:MAIN:Mean return of 17.92 over a window of 100 recent episodes. 343 episodes played so far, most recent episodic return is 20.95\n",
      "INFO:MAIN:Mean return of 18.03 over a window of 100 recent episodes. 345 episodes played so far, most recent episodic return is 21.27\n",
      "INFO:MAIN:Mean return of 18.14 over a window of 100 recent episodes. 347 episodes played so far, most recent episodic return is 21.34\n",
      "INFO:MAIN:Mean return of 18.25 over a window of 100 recent episodes. 349 episodes played so far, most recent episodic return is 20.72\n",
      "INFO:MAIN:Mean return of 18.34 over a window of 100 recent episodes. 351 episodes played so far, most recent episodic return is 20.95\n",
      "INFO:MAIN:Mean return of 18.43 over a window of 100 recent episodes. 353 episodes played so far, most recent episodic return is 20.96\n",
      "INFO:MAIN:Mean return of 18.52 over a window of 100 recent episodes. 355 episodes played so far, most recent episodic return is 21.09\n",
      "INFO:MAIN:Mean return of 18.68 over a window of 100 recent episodes. 358 episodes played so far, most recent episodic return is 20.12\n",
      "INFO:MAIN:Mean return of 18.76 over a window of 100 recent episodes. 360 episodes played so far, most recent episodic return is 20.40\n",
      "INFO:MAIN:Mean return of 18.87 over a window of 100 recent episodes. 362 episodes played so far, most recent episodic return is 20.89\n",
      "INFO:MAIN:Mean return of 18.98 over a window of 100 recent episodes. 364 episodes played so far, most recent episodic return is 21.79\n",
      "INFO:MAIN:Mean return of 19.07 over a window of 100 recent episodes. 366 episodes played so far, most recent episodic return is 20.79\n",
      "INFO:MAIN:Mean return of 19.19 over a window of 100 recent episodes. 368 episodes played so far, most recent episodic return is 22.39\n",
      "INFO:MAIN:Mean return of 19.28 over a window of 100 recent episodes. 370 episodes played so far, most recent episodic return is 22.09\n",
      "INFO:MAIN:Mean return of 19.38 over a window of 100 recent episodes. 372 episodes played so far, most recent episodic return is 21.28\n",
      "INFO:MAIN:Mean return of 19.46 over a window of 100 recent episodes. 374 episodes played so far, most recent episodic return is 21.17\n",
      "INFO:MAIN:Mean return of 19.58 over a window of 100 recent episodes. 376 episodes played so far, most recent episodic return is 22.00\n",
      "INFO:MAIN:Mean return of 19.67 over a window of 100 recent episodes. 378 episodes played so far, most recent episodic return is 21.49\n",
      "INFO:MAIN:Mean return of 19.76 over a window of 100 recent episodes. 380 episodes played so far, most recent episodic return is 20.85\n",
      "INFO:MAIN:Mean return of 19.85 over a window of 100 recent episodes. 382 episodes played so far, most recent episodic return is 22.04\n"
     ]
    },
    {
     "name": "stderr",
     "output_type": "stream",
     "text": [
      "INFO:MAIN:Mean return of 19.96 over a window of 100 recent episodes. 384 episodes played so far, most recent episodic return is 22.58\n",
      "INFO:MAIN:Mean return of 20.04 over a window of 100 recent episodes. 386 episodes played so far, most recent episodic return is 21.52\n",
      "INFO:MAIN:Mean return of 20.13 over a window of 100 recent episodes. 388 episodes played so far, most recent episodic return is 24.10\n",
      "INFO:MAIN:Mean return of 20.22 over a window of 100 recent episodes. 390 episodes played so far, most recent episodic return is 21.74\n",
      "INFO:MAIN:Mean return of 20.32 over a window of 100 recent episodes. 392 episodes played so far, most recent episodic return is 24.36\n",
      "INFO:MAIN:Mean return of 20.43 over a window of 100 recent episodes. 394 episodes played so far, most recent episodic return is 23.96\n",
      "INFO:MAIN:Mean return of 20.52 over a window of 100 recent episodes. 396 episodes played so far, most recent episodic return is 22.66\n",
      "INFO:MAIN:Mean return of 20.61 over a window of 100 recent episodes. 398 episodes played so far, most recent episodic return is 23.26\n",
      "INFO:MAIN:Mean return of 20.74 over a window of 100 recent episodes. 401 episodes played so far, most recent episodic return is 23.45\n",
      "INFO:MAIN:Mean return of 20.79 over a window of 100 recent episodes. 403 episodes played so far, most recent episodic return is 22.68\n",
      "INFO:MAIN:Mean return of 20.89 over a window of 100 recent episodes. 405 episodes played so far, most recent episodic return is 24.53\n",
      "INFO:MAIN:Mean return of 20.97 over a window of 100 recent episodes. 407 episodes played so far, most recent episodic return is 22.89\n",
      "INFO:MAIN:Mean return of 21.07 over a window of 100 recent episodes. 409 episodes played so far, most recent episodic return is 23.64\n",
      "INFO:MAIN:Mean return of 21.16 over a window of 100 recent episodes. 411 episodes played so far, most recent episodic return is 21.74\n",
      "INFO:MAIN:Mean return of 21.23 over a window of 100 recent episodes. 413 episodes played so far, most recent episodic return is 22.96\n",
      "INFO:MAIN:Mean return of 21.32 over a window of 100 recent episodes. 415 episodes played so far, most recent episodic return is 23.42\n",
      "INFO:MAIN:Mean return of 21.42 over a window of 100 recent episodes. 417 episodes played so far, most recent episodic return is 23.25\n",
      "INFO:MAIN:Mean return of 21.51 over a window of 100 recent episodes. 419 episodes played so far, most recent episodic return is 24.32\n",
      "INFO:MAIN:Mean return of 21.59 over a window of 100 recent episodes. 421 episodes played so far, most recent episodic return is 23.16\n",
      "INFO:MAIN:Mean return of 21.67 over a window of 100 recent episodes. 423 episodes played so far, most recent episodic return is 23.69\n",
      "INFO:MAIN:Mean return of 21.77 over a window of 100 recent episodes. 425 episodes played so far, most recent episodic return is 24.84\n",
      "INFO:MAIN:Mean return of 21.84 over a window of 100 recent episodes. 427 episodes played so far, most recent episodic return is 23.05\n",
      "INFO:MAIN:Mean return of 21.96 over a window of 100 recent episodes. 429 episodes played so far, most recent episodic return is 24.20\n",
      "INFO:MAIN:Mean return of 22.06 over a window of 100 recent episodes. 431 episodes played so far, most recent episodic return is 23.59\n",
      "INFO:MAIN:Mean return of 22.13 over a window of 100 recent episodes. 433 episodes played so far, most recent episodic return is 24.55\n",
      "INFO:MAIN:Mean return of 22.21 over a window of 100 recent episodes. 435 episodes played so far, most recent episodic return is 24.30\n",
      "INFO:MAIN:Mean return of 22.29 over a window of 100 recent episodes. 437 episodes played so far, most recent episodic return is 23.71\n",
      "INFO:MAIN:Mean return of 22.36 over a window of 100 recent episodes. 439 episodes played so far, most recent episodic return is 24.03\n",
      "INFO:MAIN:Mean return of 22.41 over a window of 100 recent episodes. 441 episodes played so far, most recent episodic return is 22.32\n",
      "INFO:MAIN:Mean return of 22.50 over a window of 100 recent episodes. 443 episodes played so far, most recent episodic return is 25.21\n",
      "INFO:MAIN:Mean return of 22.60 over a window of 100 recent episodes. 446 episodes played so far, most recent episodic return is 24.29\n",
      "INFO:MAIN:Mean return of 22.65 over a window of 100 recent episodes. 448 episodes played so far, most recent episodic return is 24.30\n",
      "INFO:MAIN:Mean return of 22.72 over a window of 100 recent episodes. 450 episodes played so far, most recent episodic return is 24.99\n",
      "INFO:MAIN:Mean return of 22.78 over a window of 100 recent episodes. 452 episodes played so far, most recent episodic return is 24.78\n",
      "INFO:MAIN:Mean return of 22.86 over a window of 100 recent episodes. 454 episodes played so far, most recent episodic return is 25.47\n",
      "INFO:MAIN:Mean return of 22.95 over a window of 100 recent episodes. 456 episodes played so far, most recent episodic return is 23.68\n",
      "INFO:MAIN:Mean return of 23.01 over a window of 100 recent episodes. 458 episodes played so far, most recent episodic return is 23.92\n",
      "INFO:MAIN:Mean return of 23.08 over a window of 100 recent episodes. 460 episodes played so far, most recent episodic return is 25.40\n",
      "INFO:MAIN:Mean return of 23.16 over a window of 100 recent episodes. 462 episodes played so far, most recent episodic return is 24.56\n",
      "INFO:MAIN:Mean return of 23.22 over a window of 100 recent episodes. 464 episodes played so far, most recent episodic return is 25.42\n",
      "INFO:MAIN:Mean return of 23.31 over a window of 100 recent episodes. 466 episodes played so far, most recent episodic return is 25.34\n",
      "INFO:MAIN:Mean return of 23.37 over a window of 100 recent episodes. 468 episodes played so far, most recent episodic return is 25.83\n",
      "INFO:MAIN:Mean return of 23.48 over a window of 100 recent episodes. 470 episodes played so far, most recent episodic return is 27.61\n",
      "INFO:MAIN:Mean return of 23.57 over a window of 100 recent episodes. 472 episodes played so far, most recent episodic return is 26.51\n",
      "INFO:MAIN:Mean return of 23.67 over a window of 100 recent episodes. 474 episodes played so far, most recent episodic return is 26.39\n",
      "INFO:MAIN:Mean return of 23.72 over a window of 100 recent episodes. 476 episodes played so far, most recent episodic return is 24.16\n",
      "INFO:MAIN:Mean return of 23.81 over a window of 100 recent episodes. 478 episodes played so far, most recent episodic return is 26.14\n",
      "INFO:MAIN:Mean return of 23.92 over a window of 100 recent episodes. 480 episodes played so far, most recent episodic return is 26.52\n",
      "INFO:MAIN:Mean return of 23.99 over a window of 100 recent episodes. 482 episodes played so far, most recent episodic return is 25.66\n",
      "INFO:MAIN:Mean return of 24.06 over a window of 100 recent episodes. 484 episodes played so far, most recent episodic return is 25.38\n",
      "INFO:MAIN:Mean return of 24.14 over a window of 100 recent episodes. 486 episodes played so far, most recent episodic return is 26.44\n",
      "INFO:MAIN:Mean return of 24.19 over a window of 100 recent episodes. 488 episodes played so far, most recent episodic return is 25.61\n",
      "INFO:MAIN:Mean return of 24.32 over a window of 100 recent episodes. 491 episodes played so far, most recent episodic return is 25.90\n",
      "INFO:MAIN:Mean return of 24.38 over a window of 100 recent episodes. 493 episodes played so far, most recent episodic return is 25.34\n",
      "INFO:MAIN:Mean return of 24.44 over a window of 100 recent episodes. 495 episodes played so far, most recent episodic return is 25.29\n",
      "INFO:MAIN:Mean return of 24.52 over a window of 100 recent episodes. 497 episodes played so far, most recent episodic return is 26.15\n",
      "INFO:MAIN:Mean return of 24.58 over a window of 100 recent episodes. 499 episodes played so far, most recent episodic return is 27.54\n",
      "INFO:MAIN:Mean return of 24.66 over a window of 100 recent episodes. 501 episodes played so far, most recent episodic return is 28.49\n",
      "INFO:MAIN:Mean return of 24.75 over a window of 100 recent episodes. 503 episodes played so far, most recent episodic return is 26.50\n",
      "INFO:MAIN:Mean return of 24.81 over a window of 100 recent episodes. 505 episodes played so far, most recent episodic return is 26.00\n",
      "INFO:MAIN:Mean return of 24.90 over a window of 100 recent episodes. 507 episodes played so far, most recent episodic return is 26.82\n",
      "INFO:MAIN:Mean return of 24.97 over a window of 100 recent episodes. 509 episodes played so far, most recent episodic return is 27.66\n"
     ]
    },
    {
     "name": "stderr",
     "output_type": "stream",
     "text": [
      "INFO:MAIN:Mean return of 25.06 over a window of 100 recent episodes. 511 episodes played so far, most recent episodic return is 26.65\n",
      "INFO:MAIN:Mean return of 25.13 over a window of 100 recent episodes. 513 episodes played so far, most recent episodic return is 28.24\n",
      "INFO:MAIN:Mean return of 25.21 over a window of 100 recent episodes. 515 episodes played so far, most recent episodic return is 26.73\n",
      "INFO:MAIN:Mean return of 25.29 over a window of 100 recent episodes. 517 episodes played so far, most recent episodic return is 27.47\n",
      "INFO:MAIN:Mean return of 25.35 over a window of 100 recent episodes. 519 episodes played so far, most recent episodic return is 27.69\n",
      "INFO:MAIN:Mean return of 25.41 over a window of 100 recent episodes. 521 episodes played so far, most recent episodic return is 26.33\n",
      "INFO:MAIN:Mean return of 25.49 over a window of 100 recent episodes. 523 episodes played so far, most recent episodic return is 27.40\n",
      "INFO:MAIN:Mean return of 25.57 over a window of 100 recent episodes. 525 episodes played so far, most recent episodic return is 28.85\n",
      "INFO:MAIN:Mean return of 25.67 over a window of 100 recent episodes. 527 episodes played so far, most recent episodic return is 27.54\n",
      "INFO:MAIN:Mean return of 25.72 over a window of 100 recent episodes. 529 episodes played so far, most recent episodic return is 27.84\n",
      "INFO:MAIN:Mean return of 25.80 over a window of 100 recent episodes. 531 episodes played so far, most recent episodic return is 27.90\n",
      "INFO:MAIN:Mean return of 25.89 over a window of 100 recent episodes. 533 episodes played so far, most recent episodic return is 28.99\n",
      "INFO:MAIN:Mean return of 26.00 over a window of 100 recent episodes. 536 episodes played so far, most recent episodic return is 26.62\n",
      "INFO:MAIN:Mean return of 26.08 over a window of 100 recent episodes. 538 episodes played so far, most recent episodic return is 27.87\n",
      "INFO:MAIN:Mean return of 26.15 over a window of 100 recent episodes. 540 episodes played so far, most recent episodic return is 26.67\n",
      "INFO:MAIN:Mean return of 26.23 over a window of 100 recent episodes. 542 episodes played so far, most recent episodic return is 27.28\n",
      "INFO:MAIN:Mean return of 26.31 over a window of 100 recent episodes. 544 episodes played so far, most recent episodic return is 29.23\n",
      "INFO:MAIN:Mean return of 26.39 over a window of 100 recent episodes. 546 episodes played so far, most recent episodic return is 29.05\n",
      "INFO:MAIN:Mean return of 26.49 over a window of 100 recent episodes. 548 episodes played so far, most recent episodic return is 28.33\n",
      "INFO:MAIN:Mean return of 26.58 over a window of 100 recent episodes. 550 episodes played so far, most recent episodic return is 28.82\n",
      "INFO:MAIN:Mean return of 26.65 over a window of 100 recent episodes. 552 episodes played so far, most recent episodic return is 27.84\n",
      "INFO:MAIN:Mean return of 26.70 over a window of 100 recent episodes. 554 episodes played so far, most recent episodic return is 27.83\n",
      "INFO:MAIN:Mean return of 26.76 over a window of 100 recent episodes. 556 episodes played so far, most recent episodic return is 27.41\n",
      "INFO:MAIN:Mean return of 26.83 over a window of 100 recent episodes. 558 episodes played so far, most recent episodic return is 26.03\n",
      "INFO:MAIN:Mean return of 26.89 over a window of 100 recent episodes. 560 episodes played so far, most recent episodic return is 28.26\n",
      "INFO:MAIN:Mean return of 26.96 over a window of 100 recent episodes. 562 episodes played so far, most recent episodic return is 28.57\n",
      "INFO:MAIN:Mean return of 27.02 over a window of 100 recent episodes. 564 episodes played so far, most recent episodic return is 28.26\n",
      "INFO:MAIN:Mean return of 27.08 over a window of 100 recent episodes. 566 episodes played so far, most recent episodic return is 27.40\n",
      "INFO:MAIN:Mean return of 27.13 over a window of 100 recent episodes. 568 episodes played so far, most recent episodic return is 28.02\n",
      "INFO:MAIN:Mean return of 27.16 over a window of 100 recent episodes. 570 episodes played so far, most recent episodic return is 28.45\n",
      "INFO:MAIN:Mean return of 27.23 over a window of 100 recent episodes. 572 episodes played so far, most recent episodic return is 30.06\n",
      "INFO:MAIN:Mean return of 27.28 over a window of 100 recent episodes. 574 episodes played so far, most recent episodic return is 27.30\n",
      "INFO:MAIN:Mean return of 27.35 over a window of 100 recent episodes. 576 episodes played so far, most recent episodic return is 28.31\n",
      "INFO:MAIN:Mean return of 27.47 over a window of 100 recent episodes. 579 episodes played so far, most recent episodic return is 29.85\n",
      "INFO:MAIN:Mean return of 27.53 over a window of 100 recent episodes. 581 episodes played so far, most recent episodic return is 27.31\n",
      "INFO:MAIN:Mean return of 27.64 over a window of 100 recent episodes. 583 episodes played so far, most recent episodic return is 31.73\n",
      "INFO:MAIN:Mean return of 27.75 over a window of 100 recent episodes. 585 episodes played so far, most recent episodic return is 30.22\n",
      "INFO:MAIN:Mean return of 27.83 over a window of 100 recent episodes. 587 episodes played so far, most recent episodic return is 30.25\n",
      "INFO:MAIN:Mean return of 27.92 over a window of 100 recent episodes. 589 episodes played so far, most recent episodic return is 30.08\n",
      "INFO:MAIN:Mean return of 27.98 over a window of 100 recent episodes. 591 episodes played so far, most recent episodic return is 28.57\n",
      "INFO:MAIN:Mean return of 28.04 over a window of 100 recent episodes. 593 episodes played so far, most recent episodic return is 28.50\n",
      "INFO:MAIN:Mean return of 28.12 over a window of 100 recent episodes. 595 episodes played so far, most recent episodic return is 30.20\n",
      "INFO:MAIN:Mean return of 28.18 over a window of 100 recent episodes. 597 episodes played so far, most recent episodic return is 28.71\n",
      "INFO:MAIN:Mean return of 28.27 over a window of 100 recent episodes. 599 episodes played so far, most recent episodic return is 30.85\n",
      "INFO:MAIN:Mean return of 28.33 over a window of 100 recent episodes. 601 episodes played so far, most recent episodic return is 30.01\n",
      "INFO:MAIN:Mean return of 28.40 over a window of 100 recent episodes. 603 episodes played so far, most recent episodic return is 30.77\n",
      "INFO:MAIN:Mean return of 28.48 over a window of 100 recent episodes. 605 episodes played so far, most recent episodic return is 31.04\n",
      "INFO:MAIN:Mean return of 28.54 over a window of 100 recent episodes. 607 episodes played so far, most recent episodic return is 28.84\n",
      "INFO:MAIN:Mean return of 28.61 over a window of 100 recent episodes. 609 episodes played so far, most recent episodic return is 29.12\n",
      "INFO:MAIN:Mean return of 28.66 over a window of 100 recent episodes. 611 episodes played so far, most recent episodic return is 29.29\n",
      "INFO:MAIN:Mean return of 28.73 over a window of 100 recent episodes. 613 episodes played so far, most recent episodic return is 30.82\n",
      "INFO:MAIN:Mean return of 28.79 over a window of 100 recent episodes. 615 episodes played so far, most recent episodic return is 30.13\n",
      "INFO:MAIN:Mean return of 28.84 over a window of 100 recent episodes. 617 episodes played so far, most recent episodic return is 29.56\n",
      "INFO:MAIN:Mean return of 28.90 over a window of 100 recent episodes. 619 episodes played so far, most recent episodic return is 29.95\n",
      "INFO:MAIN:Mean return of 28.99 over a window of 100 recent episodes. 621 episodes played so far, most recent episodic return is 30.43\n",
      "INFO:MAIN:Mean return of 29.09 over a window of 100 recent episodes. 624 episodes played so far, most recent episodic return is 30.56\n",
      "INFO:MAIN:Mean return of 29.12 over a window of 100 recent episodes. 626 episodes played so far, most recent episodic return is 30.67\n",
      "INFO:MAIN:Mean return of 29.17 over a window of 100 recent episodes. 628 episodes played so far, most recent episodic return is 28.47\n",
      "INFO:MAIN:Mean return of 29.22 over a window of 100 recent episodes. 630 episodes played so far, most recent episodic return is 30.27\n",
      "INFO:MAIN:Mean return of 29.28 over a window of 100 recent episodes. 632 episodes played so far, most recent episodic return is 30.14\n",
      "INFO:MAIN:Mean return of 29.32 over a window of 100 recent episodes. 634 episodes played so far, most recent episodic return is 31.20\n",
      "INFO:MAIN:Mean return of 29.38 over a window of 100 recent episodes. 636 episodes played so far, most recent episodic return is 30.31\n"
     ]
    },
    {
     "name": "stderr",
     "output_type": "stream",
     "text": [
      "INFO:MAIN:Mean return of 29.40 over a window of 100 recent episodes. 638 episodes played so far, most recent episodic return is 29.90\n",
      "INFO:MAIN:Mean return of 29.47 over a window of 100 recent episodes. 640 episodes played so far, most recent episodic return is 29.92\n",
      "INFO:MAIN:Mean return of 29.57 over a window of 100 recent episodes. 642 episodes played so far, most recent episodic return is 31.68\n",
      "INFO:MAIN:Mean return of 29.62 over a window of 100 recent episodes. 644 episodes played so far, most recent episodic return is 30.77\n",
      "INFO:MAIN:Mean return of 29.65 over a window of 100 recent episodes. 646 episodes played so far, most recent episodic return is 30.43\n",
      "INFO:MAIN:Mean return of 29.69 over a window of 100 recent episodes. 648 episodes played so far, most recent episodic return is 31.15\n",
      "INFO:MAIN:Mean return of 29.73 over a window of 100 recent episodes. 650 episodes played so far, most recent episodic return is 31.38\n",
      "INFO:MAIN:Mean return of 29.79 over a window of 100 recent episodes. 652 episodes played so far, most recent episodic return is 31.68\n",
      "INFO:MAIN:Mean return of 29.87 over a window of 100 recent episodes. 654 episodes played so far, most recent episodic return is 31.98\n",
      "INFO:MAIN:Mean return of 29.96 over a window of 100 recent episodes. 656 episodes played so far, most recent episodic return is 32.60\n",
      "INFO:MAIN:Mean return of 30.05 over a window of 100 recent episodes. 658 episodes played so far, most recent episodic return is 30.08\n"
     ]
    }
   ],
   "source": [
    "class ReacherMultiTask(BaseTask):\n",
    "    def __init__(self):\n",
    "        BaseTask.__init__(self)\n",
    "        self.name = 'ReacherMulti'\n",
    "        self.env = env\n",
    "        self.action_dim = brain.vector_action_space_size\n",
    "        self.state_dim = brain.vector_observation_space_size\n",
    "        \n",
    "    def reset(self):\n",
    "        env_info = self.env.reset(train_mode=True)[brain_name]\n",
    "        return np.array(env_info.vector_observations)\n",
    "\n",
    "    def step(self, action):\n",
    "        action = np.clip(action, -1, 1)\n",
    "        env_info = self.env.step(action)[brain_name]\n",
    "        next_state = env_info.vector_observations   # get the next state\n",
    "        reward = env_info.rewards                   # get the reward\n",
    "        done = env_info.local_done\n",
    "        if np.any(done):\n",
    "            next_state = self.reset()\n",
    "        return np.array(next_state), np.array(reward), np.array(done), None\n",
    "    \n",
    "    def seed(self, random_seed):\n",
    "        pass\n",
    "    \n",
    "def ppo_cont_2():\n",
    "    config = Config()\n",
    "    config.num_workers = num_agents\n",
    "    # task_fn = lambda log_dir: Pendulum(log_dir=log_dir)\n",
    "    # task_fn = lambda log_dir: Bullet('AntBulletEnv-v0', log_dir=log_dir)\n",
    "    task_fn = lambda : ReacherMultiTask()\n",
    "    config.task_fn = task_fn\n",
    "    config.eval_env = task_fn()\n",
    "\n",
    "    config.network_fn = lambda: GaussianActorCriticNet(\n",
    "        config.state_dim, config.action_dim, actor_body=FCBody(config.state_dim),\n",
    "        critic_body=FCBody(config.state_dim))\n",
    "    config.optimizer_fn = lambda params: torch.optim.Adam(params, 3e-4, eps=1e-5)\n",
    "    config.discount = 0.99\n",
    "    config.use_gae = True\n",
    "    config.gae_tau = 0.95\n",
    "    config.gradient_clip = 5\n",
    "    config.rollout_length = 2048\n",
    "    config.optimization_epochs = 10\n",
    "    config.num_mini_batches = 32\n",
    "    config.ppo_ratio_clip = 0.2\n",
    "    config.log_interval = 2048\n",
    "    config.max_steps = 2e7\n",
    "    config.logger = get_logger()\n",
    "    return run_steps_2(PPOAgent(config))\n",
    "    \n",
    "success, rwd_deque, rwd_all, model_path = ppo_cont_2()"
   ]
  },
  {
   "cell_type": "code",
   "execution_count": 8,
   "metadata": {},
   "outputs": [
    {
     "data": {
      "image/png": "[encoded data removed]",
      "text/plain": [
       "<Figure size 432x288 with 1 Axes>"
      ]
     },
     "metadata": {},
     "output_type": "display_data"
    }
   ],
   "source": [
    "if success:\n",
    "    fig = plt.figure()\n",
    "    ax = fig.add_subplot(111)\n",
    "    plt.plot(np.arange(len(rwd_all)), rwd_all)\n",
    "    plt.ylabel('Score')\n",
    "    plt.xlabel('Episode #')\n",
    "    plt.show()"
   ]
  },
  {
   "cell_type": "code",
   "execution_count": 9,
   "metadata": {},
   "outputs": [
    {
     "name": "stdout",
     "output_type": "stream",
     "text": [
      "SUCCESS: Mean return of 30.05 obtained over the last 100 episodes. Victory was achieved after playing a total of 658 episodes.\n"
     ]
    }
   ],
   "source": [
    "if success:\n",
    "    print(\"SUCCESS: Mean return of %.2f obtained over the last %d episodes. Victory was achieved after playing a total of %d episodes.\" % (\n",
    "        np.mean(rwd_deque), len(rwd_deque), len(rwd_all)))"
   ]
  },
  {
   "cell_type": "code",
   "execution_count": 10,
   "metadata": {
    "colab": {},
    "colab_type": "code",
    "id": "Bg3ju9IOEvS7"
   },
   "outputs": [],
   "source": [
    "env.close()"
   ]
  },
  {
   "cell_type": "markdown",
   "metadata": {
    "colab_type": "text",
    "id": "A0J3kX1KEvTK"
   },
   "source": [
    "### 4. It's Your Turn!\n",
    "\n",
    "Now it's your turn to train your own agent to solve the environment!  When training the environment, set `train_mode=True`, so that the line for resetting the environment looks like the following:\n",
    "```python\n",
    "env_info = env.reset(train_mode=True)[brain_name]\n",
    "```"
   ]
  }
 ],
 "metadata": {
  "colab": {
   "name": "Continuous_Control.ipynb",
   "provenance": [],
   "version": "0.3.2"
  },
  "kernelspec": {
   "display_name": "Python 3",
   "language": "python",
   "name": "python3"
  },
  "language_info": {
   "codemirror_mode": {
    "name": "ipython",
    "version": 3
   },
   "file_extension": ".py",
   "mimetype": "text/x-python",
   "name": "python",
   "nbconvert_exporter": "python",
   "pygments_lexer": "ipython3",
   "version": "3.6.6"
  }
 },
 "nbformat": 4,
 "nbformat_minor": 1
}
